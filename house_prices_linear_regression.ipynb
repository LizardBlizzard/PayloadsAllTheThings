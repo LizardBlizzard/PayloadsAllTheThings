{
  "nbformat": 4,
  "nbformat_minor": 0,
  "metadata": {
    "colab": {
      "provenance": [],
      "authorship_tag": "ABX9TyNSvw6z7lvBHJYstdGgif/s",
      "include_colab_link": true
    },
    "kernelspec": {
      "name": "python3",
      "display_name": "Python 3"
    },
    "language_info": {
      "name": "python"
    }
  },
  "cells": [
    {
      "cell_type": "markdown",
      "metadata": {
        "id": "view-in-github",
        "colab_type": "text"
      },
      "source": [
        "<a href=\"https://colab.research.google.com/github/LizardBlizzard/PayloadsAllTheThings/blob/master/house_prices_linear_regression.ipynb\" target=\"_parent\"><img src=\"https://colab.research.google.com/assets/colab-badge.svg\" alt=\"Open In Colab\"/></a>"
      ]
    },
    {
      "cell_type": "code",
      "execution_count": 1,
      "metadata": {
        "id": "DIfDKZHHc8dS"
      },
      "outputs": [],
      "source": [
        "# imports\n",
        "import matplotlib.pyplot as plt\n",
        "import pandas as pd\n",
        "import seaborn as sns\n",
        "from rich import print  # not mandatory\n",
        "from sklearn.compose import ColumnTransformer, make_column_transformer\n",
        "from sklearn.impute import SimpleImputer\n",
        "from sklearn.linear_model import LinearRegression\n",
        "from sklearn.metrics import mean_absolute_error, mean_squared_error, r2_score\n",
        "from sklearn.model_selection import cross_val_score, train_test_split\n",
        "from sklearn.pipeline import FunctionTransformer, Pipeline, make_pipeline\n",
        "from sklearn.preprocessing import OneHotEncoder, OrdinalEncoder, StandardScaler"
      ]
    },
    {
      "cell_type": "code",
      "source": [
        "# load data\n",
        "train_df = pd.read_csv(\"train.csv\")\n",
        "test_df = pd.read_csv(\"test.csv\")"
      ],
      "metadata": {
        "id": "Lq7H0O0HdIFF"
      },
      "execution_count": 2,
      "outputs": []
    },
    {
      "cell_type": "markdown",
      "source": [
        "# Explore test data"
      ],
      "metadata": {
        "id": "fqnu6W54dWlt"
      }
    },
    {
      "cell_type": "code",
      "source": [
        "print(f'Train missing values:')\n",
        "train_missing = train_df[\n",
        "    train_df.columns[(train_df.isnull().any())]\n",
        "].isnull().sum() * 100 / train_df.shape[0]\n",
        "print(train_missing.sort_values(ascending=False))"
      ],
      "metadata": {
        "colab": {
          "base_uri": "https://localhost:8080/",
          "height": 374
        },
        "id": "l_mU7RR3daDl",
        "outputId": "fa5d708d-e1a2-4d6e-8b12-8e75d88649c6"
      },
      "execution_count": 3,
      "outputs": [
        {
          "output_type": "display_data",
          "data": {
            "text/plain": [
              "Train missing values:\n"
            ],
            "text/html": [
              "<pre style=\"white-space:pre;overflow-x:auto;line-height:normal;font-family:Menlo,'DejaVu Sans Mono',consolas,'Courier New',monospace\">Train missing values:\n",
              "</pre>\n"
            ]
          },
          "metadata": {}
        },
        {
          "output_type": "display_data",
          "data": {
            "text/plain": [
              "PoolQC          \u001b[1;36m99.520548\u001b[0m\n",
              "MiscFeature     \u001b[1;36m96.301370\u001b[0m\n",
              "Alley           \u001b[1;36m93.767123\u001b[0m\n",
              "Fence           \u001b[1;36m80.753425\u001b[0m\n",
              "FireplaceQu     \u001b[1;36m47.260274\u001b[0m\n",
              "LotFrontage     \u001b[1;36m17.739726\u001b[0m\n",
              "GarageType       \u001b[1;36m5.547945\u001b[0m\n",
              "GarageYrBlt      \u001b[1;36m5.547945\u001b[0m\n",
              "GarageFinish     \u001b[1;36m5.547945\u001b[0m\n",
              "GarageQual       \u001b[1;36m5.547945\u001b[0m\n",
              "GarageCond       \u001b[1;36m5.547945\u001b[0m\n",
              "BsmtExposure     \u001b[1;36m2.602740\u001b[0m\n",
              "BsmtFinType2     \u001b[1;36m2.602740\u001b[0m\n",
              "BsmtFinType1     \u001b[1;36m2.534247\u001b[0m\n",
              "BsmtCond         \u001b[1;36m2.534247\u001b[0m\n",
              "BsmtQual         \u001b[1;36m2.534247\u001b[0m\n",
              "MasVnrArea       \u001b[1;36m0.547945\u001b[0m\n",
              "MasVnrType       \u001b[1;36m0.547945\u001b[0m\n",
              "Electrical       \u001b[1;36m0.068493\u001b[0m\n",
              "dtype: float64\n"
            ],
            "text/html": [
              "<pre style=\"white-space:pre;overflow-x:auto;line-height:normal;font-family:Menlo,'DejaVu Sans Mono',consolas,'Courier New',monospace\">PoolQC          <span style=\"color: #008080; text-decoration-color: #008080; font-weight: bold\">99.520548</span>\n",
              "MiscFeature     <span style=\"color: #008080; text-decoration-color: #008080; font-weight: bold\">96.301370</span>\n",
              "Alley           <span style=\"color: #008080; text-decoration-color: #008080; font-weight: bold\">93.767123</span>\n",
              "Fence           <span style=\"color: #008080; text-decoration-color: #008080; font-weight: bold\">80.753425</span>\n",
              "FireplaceQu     <span style=\"color: #008080; text-decoration-color: #008080; font-weight: bold\">47.260274</span>\n",
              "LotFrontage     <span style=\"color: #008080; text-decoration-color: #008080; font-weight: bold\">17.739726</span>\n",
              "GarageType       <span style=\"color: #008080; text-decoration-color: #008080; font-weight: bold\">5.547945</span>\n",
              "GarageYrBlt      <span style=\"color: #008080; text-decoration-color: #008080; font-weight: bold\">5.547945</span>\n",
              "GarageFinish     <span style=\"color: #008080; text-decoration-color: #008080; font-weight: bold\">5.547945</span>\n",
              "GarageQual       <span style=\"color: #008080; text-decoration-color: #008080; font-weight: bold\">5.547945</span>\n",
              "GarageCond       <span style=\"color: #008080; text-decoration-color: #008080; font-weight: bold\">5.547945</span>\n",
              "BsmtExposure     <span style=\"color: #008080; text-decoration-color: #008080; font-weight: bold\">2.602740</span>\n",
              "BsmtFinType2     <span style=\"color: #008080; text-decoration-color: #008080; font-weight: bold\">2.602740</span>\n",
              "BsmtFinType1     <span style=\"color: #008080; text-decoration-color: #008080; font-weight: bold\">2.534247</span>\n",
              "BsmtCond         <span style=\"color: #008080; text-decoration-color: #008080; font-weight: bold\">2.534247</span>\n",
              "BsmtQual         <span style=\"color: #008080; text-decoration-color: #008080; font-weight: bold\">2.534247</span>\n",
              "MasVnrArea       <span style=\"color: #008080; text-decoration-color: #008080; font-weight: bold\">0.547945</span>\n",
              "MasVnrType       <span style=\"color: #008080; text-decoration-color: #008080; font-weight: bold\">0.547945</span>\n",
              "Electrical       <span style=\"color: #008080; text-decoration-color: #008080; font-weight: bold\">0.068493</span>\n",
              "dtype: float64\n",
              "</pre>\n"
            ]
          },
          "metadata": {}
        }
      ]
    },
    {
      "cell_type": "code",
      "source": [
        "print(f'Test missing values:')\n",
        "test_missing = test_df[\n",
        "    test_df.columns[(test_df.isnull().any())]\n",
        "].isnull().sum() * 100 / test_df.shape[0]\n",
        "print(test_missing.sort_values(ascending=False))"
      ],
      "metadata": {
        "colab": {
          "base_uri": "https://localhost:8080/",
          "height": 612
        },
        "id": "Q-CMRE24epIr",
        "outputId": "9bd7ff60-2a39-4110-c3c7-94b5c6aac263"
      },
      "execution_count": 4,
      "outputs": [
        {
          "output_type": "display_data",
          "data": {
            "text/plain": [
              "Test missing values:\n"
            ],
            "text/html": [
              "<pre style=\"white-space:pre;overflow-x:auto;line-height:normal;font-family:Menlo,'DejaVu Sans Mono',consolas,'Courier New',monospace\">Test missing values:\n",
              "</pre>\n"
            ]
          },
          "metadata": {}
        },
        {
          "output_type": "display_data",
          "data": {
            "text/plain": [
              "PoolQC          \u001b[1;36m99.794380\u001b[0m\n",
              "MiscFeature     \u001b[1;36m96.504455\u001b[0m\n",
              "Alley           \u001b[1;36m92.666210\u001b[0m\n",
              "Fence           \u001b[1;36m80.123372\u001b[0m\n",
              "FireplaceQu     \u001b[1;36m50.034270\u001b[0m\n",
              "LotFrontage     \u001b[1;36m15.558602\u001b[0m\n",
              "GarageCond       \u001b[1;36m5.346127\u001b[0m\n",
              "GarageYrBlt      \u001b[1;36m5.346127\u001b[0m\n",
              "GarageQual       \u001b[1;36m5.346127\u001b[0m\n",
              "GarageFinish     \u001b[1;36m5.346127\u001b[0m\n",
              "GarageType       \u001b[1;36m5.209047\u001b[0m\n",
              "BsmtCond         \u001b[1;36m3.084304\u001b[0m\n",
              "BsmtExposure     \u001b[1;36m3.015764\u001b[0m\n",
              "BsmtQual         \u001b[1;36m3.015764\u001b[0m\n",
              "BsmtFinType1     \u001b[1;36m2.878684\u001b[0m\n",
              "BsmtFinType2     \u001b[1;36m2.878684\u001b[0m\n",
              "MasVnrType       \u001b[1;36m1.096642\u001b[0m\n",
              "MasVnrArea       \u001b[1;36m1.028101\u001b[0m\n",
              "MSZoning         \u001b[1;36m0.274160\u001b[0m\n",
              "BsmtFullBath     \u001b[1;36m0.137080\u001b[0m\n",
              "BsmtHalfBath     \u001b[1;36m0.137080\u001b[0m\n",
              "Functional       \u001b[1;36m0.137080\u001b[0m\n",
              "Utilities        \u001b[1;36m0.137080\u001b[0m\n",
              "GarageCars       \u001b[1;36m0.068540\u001b[0m\n",
              "GarageArea       \u001b[1;36m0.068540\u001b[0m\n",
              "TotalBsmtSF      \u001b[1;36m0.068540\u001b[0m\n",
              "KitchenQual      \u001b[1;36m0.068540\u001b[0m\n",
              "BsmtUnfSF        \u001b[1;36m0.068540\u001b[0m\n",
              "BsmtFinSF2       \u001b[1;36m0.068540\u001b[0m\n",
              "BsmtFinSF1       \u001b[1;36m0.068540\u001b[0m\n",
              "Exterior2nd      \u001b[1;36m0.068540\u001b[0m\n",
              "Exterior1st      \u001b[1;36m0.068540\u001b[0m\n",
              "SaleType         \u001b[1;36m0.068540\u001b[0m\n",
              "dtype: float64\n"
            ],
            "text/html": [
              "<pre style=\"white-space:pre;overflow-x:auto;line-height:normal;font-family:Menlo,'DejaVu Sans Mono',consolas,'Courier New',monospace\">PoolQC          <span style=\"color: #008080; text-decoration-color: #008080; font-weight: bold\">99.794380</span>\n",
              "MiscFeature     <span style=\"color: #008080; text-decoration-color: #008080; font-weight: bold\">96.504455</span>\n",
              "Alley           <span style=\"color: #008080; text-decoration-color: #008080; font-weight: bold\">92.666210</span>\n",
              "Fence           <span style=\"color: #008080; text-decoration-color: #008080; font-weight: bold\">80.123372</span>\n",
              "FireplaceQu     <span style=\"color: #008080; text-decoration-color: #008080; font-weight: bold\">50.034270</span>\n",
              "LotFrontage     <span style=\"color: #008080; text-decoration-color: #008080; font-weight: bold\">15.558602</span>\n",
              "GarageCond       <span style=\"color: #008080; text-decoration-color: #008080; font-weight: bold\">5.346127</span>\n",
              "GarageYrBlt      <span style=\"color: #008080; text-decoration-color: #008080; font-weight: bold\">5.346127</span>\n",
              "GarageQual       <span style=\"color: #008080; text-decoration-color: #008080; font-weight: bold\">5.346127</span>\n",
              "GarageFinish     <span style=\"color: #008080; text-decoration-color: #008080; font-weight: bold\">5.346127</span>\n",
              "GarageType       <span style=\"color: #008080; text-decoration-color: #008080; font-weight: bold\">5.209047</span>\n",
              "BsmtCond         <span style=\"color: #008080; text-decoration-color: #008080; font-weight: bold\">3.084304</span>\n",
              "BsmtExposure     <span style=\"color: #008080; text-decoration-color: #008080; font-weight: bold\">3.015764</span>\n",
              "BsmtQual         <span style=\"color: #008080; text-decoration-color: #008080; font-weight: bold\">3.015764</span>\n",
              "BsmtFinType1     <span style=\"color: #008080; text-decoration-color: #008080; font-weight: bold\">2.878684</span>\n",
              "BsmtFinType2     <span style=\"color: #008080; text-decoration-color: #008080; font-weight: bold\">2.878684</span>\n",
              "MasVnrType       <span style=\"color: #008080; text-decoration-color: #008080; font-weight: bold\">1.096642</span>\n",
              "MasVnrArea       <span style=\"color: #008080; text-decoration-color: #008080; font-weight: bold\">1.028101</span>\n",
              "MSZoning         <span style=\"color: #008080; text-decoration-color: #008080; font-weight: bold\">0.274160</span>\n",
              "BsmtFullBath     <span style=\"color: #008080; text-decoration-color: #008080; font-weight: bold\">0.137080</span>\n",
              "BsmtHalfBath     <span style=\"color: #008080; text-decoration-color: #008080; font-weight: bold\">0.137080</span>\n",
              "Functional       <span style=\"color: #008080; text-decoration-color: #008080; font-weight: bold\">0.137080</span>\n",
              "Utilities        <span style=\"color: #008080; text-decoration-color: #008080; font-weight: bold\">0.137080</span>\n",
              "GarageCars       <span style=\"color: #008080; text-decoration-color: #008080; font-weight: bold\">0.068540</span>\n",
              "GarageArea       <span style=\"color: #008080; text-decoration-color: #008080; font-weight: bold\">0.068540</span>\n",
              "TotalBsmtSF      <span style=\"color: #008080; text-decoration-color: #008080; font-weight: bold\">0.068540</span>\n",
              "KitchenQual      <span style=\"color: #008080; text-decoration-color: #008080; font-weight: bold\">0.068540</span>\n",
              "BsmtUnfSF        <span style=\"color: #008080; text-decoration-color: #008080; font-weight: bold\">0.068540</span>\n",
              "BsmtFinSF2       <span style=\"color: #008080; text-decoration-color: #008080; font-weight: bold\">0.068540</span>\n",
              "BsmtFinSF1       <span style=\"color: #008080; text-decoration-color: #008080; font-weight: bold\">0.068540</span>\n",
              "Exterior2nd      <span style=\"color: #008080; text-decoration-color: #008080; font-weight: bold\">0.068540</span>\n",
              "Exterior1st      <span style=\"color: #008080; text-decoration-color: #008080; font-weight: bold\">0.068540</span>\n",
              "SaleType         <span style=\"color: #008080; text-decoration-color: #008080; font-weight: bold\">0.068540</span>\n",
              "dtype: float64\n",
              "</pre>\n"
            ]
          },
          "metadata": {}
        }
      ]
    },
    {
      "cell_type": "code",
      "source": [
        "print('Columns with missing values in test not missing in train:')\n",
        "print(test_missing[test_missing.index.difference(train_missing.index)].sort_values(ascending=False))"
      ],
      "metadata": {
        "colab": {
          "base_uri": "https://localhost:8080/",
          "height": 306
        },
        "id": "kjmrQ7CnnnNb",
        "outputId": "1d263725-f1b5-4fb9-b7b0-497c95d15671"
      },
      "execution_count": 5,
      "outputs": [
        {
          "output_type": "display_data",
          "data": {
            "text/plain": [
              "Columns with missing values in test not missing in train:\n"
            ],
            "text/html": [
              "<pre style=\"white-space:pre;overflow-x:auto;line-height:normal;font-family:Menlo,'DejaVu Sans Mono',consolas,'Courier New',monospace\">Columns with missing values in test not missing in train:\n",
              "</pre>\n"
            ]
          },
          "metadata": {}
        },
        {
          "output_type": "display_data",
          "data": {
            "text/plain": [
              "MSZoning        \u001b[1;36m0.27416\u001b[0m\n",
              "BsmtFullBath    \u001b[1;36m0.13708\u001b[0m\n",
              "BsmtHalfBath    \u001b[1;36m0.13708\u001b[0m\n",
              "Functional      \u001b[1;36m0.13708\u001b[0m\n",
              "Utilities       \u001b[1;36m0.13708\u001b[0m\n",
              "BsmtFinSF1      \u001b[1;36m0.06854\u001b[0m\n",
              "BsmtFinSF2      \u001b[1;36m0.06854\u001b[0m\n",
              "BsmtUnfSF       \u001b[1;36m0.06854\u001b[0m\n",
              "Exterior1st     \u001b[1;36m0.06854\u001b[0m\n",
              "Exterior2nd     \u001b[1;36m0.06854\u001b[0m\n",
              "GarageArea      \u001b[1;36m0.06854\u001b[0m\n",
              "GarageCars      \u001b[1;36m0.06854\u001b[0m\n",
              "KitchenQual     \u001b[1;36m0.06854\u001b[0m\n",
              "SaleType        \u001b[1;36m0.06854\u001b[0m\n",
              "TotalBsmtSF     \u001b[1;36m0.06854\u001b[0m\n",
              "dtype: float64\n"
            ],
            "text/html": [
              "<pre style=\"white-space:pre;overflow-x:auto;line-height:normal;font-family:Menlo,'DejaVu Sans Mono',consolas,'Courier New',monospace\">MSZoning        <span style=\"color: #008080; text-decoration-color: #008080; font-weight: bold\">0.27416</span>\n",
              "BsmtFullBath    <span style=\"color: #008080; text-decoration-color: #008080; font-weight: bold\">0.13708</span>\n",
              "BsmtHalfBath    <span style=\"color: #008080; text-decoration-color: #008080; font-weight: bold\">0.13708</span>\n",
              "Functional      <span style=\"color: #008080; text-decoration-color: #008080; font-weight: bold\">0.13708</span>\n",
              "Utilities       <span style=\"color: #008080; text-decoration-color: #008080; font-weight: bold\">0.13708</span>\n",
              "BsmtFinSF1      <span style=\"color: #008080; text-decoration-color: #008080; font-weight: bold\">0.06854</span>\n",
              "BsmtFinSF2      <span style=\"color: #008080; text-decoration-color: #008080; font-weight: bold\">0.06854</span>\n",
              "BsmtUnfSF       <span style=\"color: #008080; text-decoration-color: #008080; font-weight: bold\">0.06854</span>\n",
              "Exterior1st     <span style=\"color: #008080; text-decoration-color: #008080; font-weight: bold\">0.06854</span>\n",
              "Exterior2nd     <span style=\"color: #008080; text-decoration-color: #008080; font-weight: bold\">0.06854</span>\n",
              "GarageArea      <span style=\"color: #008080; text-decoration-color: #008080; font-weight: bold\">0.06854</span>\n",
              "GarageCars      <span style=\"color: #008080; text-decoration-color: #008080; font-weight: bold\">0.06854</span>\n",
              "KitchenQual     <span style=\"color: #008080; text-decoration-color: #008080; font-weight: bold\">0.06854</span>\n",
              "SaleType        <span style=\"color: #008080; text-decoration-color: #008080; font-weight: bold\">0.06854</span>\n",
              "TotalBsmtSF     <span style=\"color: #008080; text-decoration-color: #008080; font-weight: bold\">0.06854</span>\n",
              "dtype: float64\n",
              "</pre>\n"
            ]
          },
          "metadata": {}
        }
      ]
    },
    {
      "cell_type": "code",
      "source": [
        "print('Columns with missing values in train not missing in test:')\n",
        "print(train_missing[train_missing.index.difference(test_missing.index)].sort_values(ascending=False))"
      ],
      "metadata": {
        "colab": {
          "base_uri": "https://localhost:8080/",
          "height": 68
        },
        "id": "UlXV_dcmpIbQ",
        "outputId": "183aecfe-97f4-4f7f-dd7a-6183a8198701"
      },
      "execution_count": 6,
      "outputs": [
        {
          "output_type": "display_data",
          "data": {
            "text/plain": [
              "Columns with missing values in train not missing in test:\n"
            ],
            "text/html": [
              "<pre style=\"white-space:pre;overflow-x:auto;line-height:normal;font-family:Menlo,'DejaVu Sans Mono',consolas,'Courier New',monospace\">Columns with missing values in train not missing in test:\n",
              "</pre>\n"
            ]
          },
          "metadata": {}
        },
        {
          "output_type": "display_data",
          "data": {
            "text/plain": [
              "Electrical    \u001b[1;36m0.068493\u001b[0m\n",
              "dtype: float64\n"
            ],
            "text/html": [
              "<pre style=\"white-space:pre;overflow-x:auto;line-height:normal;font-family:Menlo,'DejaVu Sans Mono',consolas,'Courier New',monospace\">Electrical    <span style=\"color: #008080; text-decoration-color: #008080; font-weight: bold\">0.068493</span>\n",
              "dtype: float64\n",
              "</pre>\n"
            ]
          },
          "metadata": {}
        }
      ]
    },
    {
      "cell_type": "markdown",
      "source": [
        "# Linear Regression models"
      ],
      "metadata": {
        "id": "eKGX5_Oudahm"
      }
    },
    {
      "cell_type": "markdown",
      "source": [
        "### Define static column type mapping"
      ],
      "metadata": {
        "id": "g0MCSu2HqM81"
      }
    },
    {
      "cell_type": "code",
      "source": [
        "CATEGORICAL_COLUMNS = [\n",
        "    \"MSZoning\",\"Street\",\"Alley\",\"LotShape\",\"LandContour\",\"Utilities\",\"LotConfig\",\n",
        "    \"Neighborhood\",\"Condition1\",\"Condition2\",\"BldgType\",\"HouseStyle\",\"RoofStyle\",\n",
        "    \"RoofMatl\",\"Exterior1st\",\"Exterior2nd\",\"MasVnrType\",\"Foundation\",\"Heating\",\n",
        "    \"CentralAir\",\"Electrical\",\"GarageType\",\"PavedDrive\",\"MiscFeature\",\"SaleType\",\n",
        "    \"SaleCondition\"\n",
        "]\n",
        "\n",
        "ORDINAL_COLUMNS = [\n",
        "    \"MSSubClass\",\"LandSlope\",\"OverallQual\",\"OverallCond\",\"ExterQual\",\"ExterCond\",\n",
        "    \"BsmtQual\",\"BsmtCond\",\"BsmtExposure\",\"BsmtFinType1\",\"BsmtFinType2\",\"HeatingQC\",\n",
        "    \"KitchenQual\",\"Functional\",\"FireplaceQu\",\"GarageFinish\",\"GarageQual\",\"GarageCond\",\n",
        "    \"PoolQC\",\"Fence\"\n",
        "]\n",
        "\n",
        "NUMERICAL_COLUMNS = [\n",
        "    \"LotFrontage\",\"LotArea\",\"YearBuilt\",\"YearRemodAdd\",\"MasVnrArea\",\"BsmtFinSF1\",\n",
        "    \"BsmtFinSF2\",\"BsmtUnfSF\",\"TotalBsmtSF\",\"1stFlrSF\",\"2ndFlrSF\",\"LowQualFinSF\",\n",
        "    \"GrLivArea\",\"BsmtFullBath\",\"BsmtHalfBath\",\"FullBath\",\"HalfBath\",\"BedroomAbvGr\",\n",
        "    \"KitchenAbvGr\",\"TotRmsAbvGrd\",\"Fireplaces\",\"GarageYrBlt\",\"GarageCars\",\"GarageArea\",\n",
        "    \"WoodDeckSF\",\"OpenPorchSF\",\"EnclosedPorch\",\"3SsnPorch\",\"ScreenPorch\",\"PoolArea\",\n",
        "    \"MiscVal\",\"MoSold\",\"YrSold\"\n",
        "]"
      ],
      "metadata": {
        "id": "KOWFt82ydeFt"
      },
      "execution_count": 7,
      "outputs": []
    },
    {
      "cell_type": "markdown",
      "source": [
        "### Split train dataset to train and test for evaluation"
      ],
      "metadata": {
        "id": "nV6zj0iAqknU"
      }
    },
    {
      "cell_type": "code",
      "source": [
        "X_train, X_test, y_train, y_test = train_test_split(\n",
        "    train_df.drop(columns=['SalePrice']),\n",
        "    train_df['SalePrice'],\n",
        "    test_size=0.33,\n",
        "    random_state=42\n",
        ")"
      ],
      "metadata": {
        "id": "dbIZTOtFj2AN"
      },
      "execution_count": 9,
      "outputs": []
    },
    {
      "cell_type": "markdown",
      "source": [
        "### Simple linear regression on numerical values"
      ],
      "metadata": {
        "id": "sqd8knz_qsJd"
      }
    },
    {
      "cell_type": "code",
      "source": [
        "numerical_pipeline = make_pipeline(SimpleImputer(), StandardScaler())\n",
        "\n",
        "transformer = make_column_transformer(\n",
        "    (numerical_pipeline, NUMERICAL_COLUMNS),\n",
        "    remainder='drop'\n",
        ")\n",
        "\n",
        "pipeline = make_pipeline(transformer, LinearRegression())\n",
        "pipeline.fit(X=X_train, y=y_train)\n",
        "predictions = pipeline.predict(X=X_test)\n",
        "\n",
        "print(f'Mean absolute error: {mean_absolute_error(y_pred=predictions, y_true=y_test)}')\n",
        "print(f'Mean squared error: {mean_squared_error(y_pred=predictions, y_true=y_test)}')\n",
        "print(\"Coefficient of determination: %.2f\" % r2_score(y_test, predictions))\n",
        "# print(\"Coefficients: \\n\", pipeline['linearregression'].coef_)"
      ],
      "metadata": {
        "colab": {
          "base_uri": "https://localhost:8080/",
          "height": 68
        },
        "id": "Vo5vMWrXjYnu",
        "outputId": "b5560ed2-472d-4544-8d3d-c2a332bb052a"
      },
      "execution_count": 54,
      "outputs": [
        {
          "output_type": "display_data",
          "data": {
            "text/plain": [
              "Mean absolute error: \u001b[1;36m25851.005698398054\u001b[0m\n"
            ],
            "text/html": [
              "<pre style=\"white-space:pre;overflow-x:auto;line-height:normal;font-family:Menlo,'DejaVu Sans Mono',consolas,'Courier New',monospace\">Mean absolute error: <span style=\"color: #008080; text-decoration-color: #008080; font-weight: bold\">25851.005698398054</span>\n",
              "</pre>\n"
            ]
          },
          "metadata": {}
        },
        {
          "output_type": "display_data",
          "data": {
            "text/plain": [
              "Mean squared error: \u001b[1;36m1837839027.737359\u001b[0m\n"
            ],
            "text/html": [
              "<pre style=\"white-space:pre;overflow-x:auto;line-height:normal;font-family:Menlo,'DejaVu Sans Mono',consolas,'Courier New',monospace\">Mean squared error: <span style=\"color: #008080; text-decoration-color: #008080; font-weight: bold\">1837839027.737359</span>\n",
              "</pre>\n"
            ]
          },
          "metadata": {}
        },
        {
          "output_type": "display_data",
          "data": {
            "text/plain": [
              "Coefficient of determination: \u001b[1;36m0.75\u001b[0m\n"
            ],
            "text/html": [
              "<pre style=\"white-space:pre;overflow-x:auto;line-height:normal;font-family:Menlo,'DejaVu Sans Mono',consolas,'Courier New',monospace\">Coefficient of determination: <span style=\"color: #008080; text-decoration-color: #008080; font-weight: bold\">0.75</span>\n",
              "</pre>\n"
            ]
          },
          "metadata": {}
        }
      ]
    },
    {
      "cell_type": "code",
      "source": [
        "scores = cross_val_score(pipeline, X=X_train, y=y_train)\n",
        "\n",
        "print(scores)\n",
        "print(f\"{scores.mean():.2f} accuracy with a standard deviation of {scores.std():.2f}\")"
      ],
      "metadata": {
        "colab": {
          "base_uri": "https://localhost:8080/",
          "height": 51
        },
        "id": "QbO7F5mglHPc",
        "outputId": "819be568-2c6d-44a0-da17-ff5b8a67b234"
      },
      "execution_count": 56,
      "outputs": [
        {
          "output_type": "display_data",
          "data": {
            "text/plain": [
              "\u001b[1m[\u001b[0m\u001b[1;36m0.69680973\u001b[0m \u001b[1;36m0.45859551\u001b[0m \u001b[1;36m0.78715041\u001b[0m \u001b[1;36m0.80439675\u001b[0m \u001b[1;36m0.4560442\u001b[0m \u001b[1m]\u001b[0m\n"
            ],
            "text/html": [
              "<pre style=\"white-space:pre;overflow-x:auto;line-height:normal;font-family:Menlo,'DejaVu Sans Mono',consolas,'Courier New',monospace\"><span style=\"font-weight: bold\">[</span><span style=\"color: #008080; text-decoration-color: #008080; font-weight: bold\">0.69680973</span> <span style=\"color: #008080; text-decoration-color: #008080; font-weight: bold\">0.45859551</span> <span style=\"color: #008080; text-decoration-color: #008080; font-weight: bold\">0.78715041</span> <span style=\"color: #008080; text-decoration-color: #008080; font-weight: bold\">0.80439675</span> <span style=\"color: #008080; text-decoration-color: #008080; font-weight: bold\">0.4560442</span> <span style=\"font-weight: bold\">]</span>\n",
              "</pre>\n"
            ]
          },
          "metadata": {}
        },
        {
          "output_type": "display_data",
          "data": {
            "text/plain": [
              "\u001b[1;36m0.64\u001b[0m accuracy with a standard deviation of \u001b[1;36m0.15\u001b[0m\n"
            ],
            "text/html": [
              "<pre style=\"white-space:pre;overflow-x:auto;line-height:normal;font-family:Menlo,'DejaVu Sans Mono',consolas,'Courier New',monospace\"><span style=\"color: #008080; text-decoration-color: #008080; font-weight: bold\">0.64</span> accuracy with a standard deviation of <span style=\"color: #008080; text-decoration-color: #008080; font-weight: bold\">0.15</span>\n",
              "</pre>\n"
            ]
          },
          "metadata": {}
        }
      ]
    },
    {
      "cell_type": "markdown",
      "source": [
        "A model based on numerical values only doesn't prove very stable or accurate."
      ],
      "metadata": {
        "id": "4ZKQe9dzrL7x"
      }
    },
    {
      "cell_type": "markdown",
      "source": [
        "#### Regression on categorical and ordinal features"
      ],
      "metadata": {
        "id": "NWp1i0aIrTxu"
      }
    },
    {
      "cell_type": "code",
      "source": [
        "categorical_pipeline = make_pipeline(SimpleImputer(strategy=\"most_frequent\"), OneHotEncoder(handle_unknown='infrequent_if_exist'))\n",
        "ordinal_pipeline = make_pipeline(SimpleImputer(strategy=\"most_frequent\"), OrdinalEncoder(handle_unknown='use_encoded_value', unknown_value=-1))\n",
        "numerical_pipeline = make_pipeline(SimpleImputer(), StandardScaler())\n",
        "\n",
        "transformer = make_column_transformer(\n",
        "    (categorical_pipeline, CATEGORICAL_COLUMNS),\n",
        "    (ordinal_pipeline, ORDINAL_COLUMNS),\n",
        "    # (numerical_pipeline, NUMERICAL_COLUMNS),\n",
        "    remainder='drop'\n",
        ")\n",
        "\n",
        "pipeline = make_pipeline(transformer, LinearRegression())\n",
        "\n",
        "scores = cross_val_score(pipeline, X=X_train, y=y_train)\n",
        "\n",
        "print(scores)\n",
        "print(f\"{scores.mean():.2f} accuracy with a standard deviation of {scores.std():.2f}\")"
      ],
      "metadata": {
        "colab": {
          "base_uri": "https://localhost:8080/",
          "height": 51
        },
        "id": "JoeLonDapkyw",
        "outputId": "001c1c3d-9ff6-45e1-9a42-7122f7cd139f"
      },
      "execution_count": 57,
      "outputs": [
        {
          "output_type": "display_data",
          "data": {
            "text/plain": [
              "\u001b[1m[\u001b[0m\u001b[1;36m0.79876767\u001b[0m \u001b[1;36m0.65962332\u001b[0m \u001b[1;36m0.78126744\u001b[0m \u001b[1;36m0.68788728\u001b[0m \u001b[1;36m0.74771905\u001b[0m\u001b[1m]\u001b[0m\n"
            ],
            "text/html": [
              "<pre style=\"white-space:pre;overflow-x:auto;line-height:normal;font-family:Menlo,'DejaVu Sans Mono',consolas,'Courier New',monospace\"><span style=\"font-weight: bold\">[</span><span style=\"color: #008080; text-decoration-color: #008080; font-weight: bold\">0.79876767</span> <span style=\"color: #008080; text-decoration-color: #008080; font-weight: bold\">0.65962332</span> <span style=\"color: #008080; text-decoration-color: #008080; font-weight: bold\">0.78126744</span> <span style=\"color: #008080; text-decoration-color: #008080; font-weight: bold\">0.68788728</span> <span style=\"color: #008080; text-decoration-color: #008080; font-weight: bold\">0.74771905</span><span style=\"font-weight: bold\">]</span>\n",
              "</pre>\n"
            ]
          },
          "metadata": {}
        },
        {
          "output_type": "display_data",
          "data": {
            "text/plain": [
              "\u001b[1;36m0.74\u001b[0m accuracy with a standard deviation of \u001b[1;36m0.05\u001b[0m\n"
            ],
            "text/html": [
              "<pre style=\"white-space:pre;overflow-x:auto;line-height:normal;font-family:Menlo,'DejaVu Sans Mono',consolas,'Courier New',monospace\"><span style=\"color: #008080; text-decoration-color: #008080; font-weight: bold\">0.74</span> accuracy with a standard deviation of <span style=\"color: #008080; text-decoration-color: #008080; font-weight: bold\">0.05</span>\n",
              "</pre>\n"
            ]
          },
          "metadata": {}
        }
      ]
    },
    {
      "cell_type": "markdown",
      "source": [
        "Suprisingly better with very little effort."
      ],
      "metadata": {
        "id": "KBBw_9bBrbzB"
      }
    },
    {
      "cell_type": "markdown",
      "source": [
        "## Transform ordinal"
      ],
      "metadata": {
        "id": "Ds42tgTSSim8"
      }
    },
    {
      "cell_type": "code",
      "source": [
        "CATEGORICAL_COLUMNS = [\n",
        "    \"MSSubClass\",\"MSZoning\",\"Street\",\"Alley\",\"LotShape\",\"LandContour\",\n",
        "    \"Utilities\",\"LotConfig\",\"Neighborhood\",\"Condition1\",\"Condition2\",\"BldgType\",\n",
        "    \"HouseStyle\",\"RoofStyle\",\"RoofMatl\",\"Exterior1st\",\"Exterior2nd\",\n",
        "    \"MasVnrType\",\"Foundation\",\"Heating\",\"CentralAir\",\"Electrical\",\"GarageType\",\n",
        "    \"PavedDrive\",\"MiscFeature\",\"SaleType\",\"SaleCondition\"\n",
        "]\n",
        "\n",
        "ORDINAL_COLUMNS = [\n",
        "    \"LandSlope\",\"OverallQual\",\"OverallCond\",\"ExterQual\",\"ExterCond\",\"BsmtQual\",\n",
        "    \"BsmtCond\",\"BsmtExposure\",\"BsmtFinType1\",\"BsmtFinType2\",\"HeatingQC\",\n",
        "    \"KitchenQual\",\"Functional\",\"FireplaceQu\",\"GarageFinish\",\"GarageQual\",\n",
        "    \"GarageCond\",\"PoolQC\",\"Fence\"\n",
        "]\n",
        "\n",
        "NUMERICAL_COLUMNS = [\n",
        "    \"LotFrontage\",\"LotArea\",\"YearBuilt\",\"YearRemodAdd\",\"MasVnrArea\",\n",
        "    \"BsmtFinSF1\",\"BsmtFinSF2\",\"BsmtUnfSF\",\"TotalBsmtSF\",\"1stFlrSF\",\"2ndFlrSF\",\n",
        "    \"LowQualFinSF\",\"GrLivArea\",\"BsmtFullBath\",\"BsmtHalfBath\",\"FullBath\",\n",
        "    \"HalfBath\",\"BedroomAbvGr\",\"KitchenAbvGr\",\"TotRmsAbvGrd\",\"Fireplaces\",\n",
        "    \"GarageYrBlt\",\"GarageCars\",\"GarageArea\",\"WoodDeckSF\",\"OpenPorchSF\",\n",
        "    \"EnclosedPorch\",\"3SsnPorch\",\"ScreenPorch\",\"PoolArea\",\"MiscVal\",\"MoSold\",\n",
        "    \"YrSold\"\n",
        "]\n",
        "\n",
        "categorical_pipeline = make_pipeline(\n",
        "    SimpleImputer(strategy=\"most_frequent\"),\n",
        "    OneHotEncoder(handle_unknown=\"infrequent_if_exist\"),\n",
        ")\n",
        "numerical_pipeline = make_pipeline(SimpleImputer(), StandardScaler())\n",
        "\n",
        "ordinal_transformers: list[tuple[Pipeline, list[str]]] = []\n",
        "ordinal_transformers.append(\n",
        "    (\n",
        "        make_pipeline(\n",
        "            SimpleImputer(strategy=\"most_frequent\"),\n",
        "            OrdinalEncoder(\n",
        "                categories=[[\"Po\", \"Fa\", \"TA\", \"Gd\", \"Ex\"] for _ in range(4)],\n",
        "                handle_unknown=\"use_encoded_value\",\n",
        "                unknown_value=-1,\n",
        "            ),\n",
        "        ),\n",
        "        [\"ExterQual\", \"ExterCond\", \"HeatingQC\", \"KitchenQual\"],\n",
        "    )\n",
        ")\n",
        "\n",
        "ordinal_transformers.append(\n",
        "    (\n",
        "        make_pipeline(\n",
        "            SimpleImputer(strategy=\"most_frequent\"),\n",
        "            OrdinalEncoder(\n",
        "                categories=[[\"NA\", \"Po\", \"Fa\", \"TA\", \"Gd\", \"Ex\"] for _ in range(5)],\n",
        "                handle_unknown=\"use_encoded_value\",\n",
        "                unknown_value=-1,\n",
        "            ),\n",
        "        ),\n",
        "        [\"BsmtQual\", \"BsmtCond\", \"FireplaceQu\", \"GarageQual\", \"GarageCond\"],\n",
        "    )\n",
        ")\n",
        "\n",
        "ordinal_transformers.append(\n",
        "    (\n",
        "        make_pipeline(\n",
        "            SimpleImputer(strategy=\"most_frequent\"),\n",
        "            OrdinalEncoder(\n",
        "                categories=[\n",
        "                    [\"NA\", \"Unf\", \"LwQ\", \"Rec\", \"BLQ\", \"ALQ\", \"GLQ\"] for _ in range(2)\n",
        "                ],\n",
        "                handle_unknown=\"use_encoded_value\",\n",
        "                unknown_value=-1,\n",
        "            ),\n",
        "        ),\n",
        "        [\"BsmtFinType1\", \"BsmtFinType2\"],\n",
        "    )\n",
        ")\n",
        "\n",
        "ordinal_transformers.append(\n",
        "    (\n",
        "        make_pipeline(\n",
        "            SimpleImputer(strategy=\"most_frequent\"),\n",
        "            OrdinalEncoder(\n",
        "                categories=[[\"NA\", \"No\", \"Mn\", \"Av\", \"Gd\"]],\n",
        "                handle_unknown=\"use_encoded_value\",\n",
        "                unknown_value=-1,\n",
        "            ),\n",
        "        ),\n",
        "        [\"BsmtExposure\"],\n",
        "    )\n",
        ")\n",
        "\n",
        "ordinal_transformers.append(\n",
        "    (\n",
        "        make_pipeline(\n",
        "            SimpleImputer(strategy=\"most_frequent\"),\n",
        "            OrdinalEncoder(\n",
        "                categories=[\n",
        "                    [\"Typ\", \"Min1\", \"Min2\", \"Mod\", \"Maj1\", \"Maj2\", \"Sev\", \"Sal\"]\n",
        "                ],\n",
        "                handle_unknown=\"use_encoded_value\",\n",
        "                unknown_value=-1,\n",
        "            ),\n",
        "        ),\n",
        "        [\"Functional\"],\n",
        "    )\n",
        ")\n",
        "\n",
        "ordinal_transformers.append(\n",
        "    (\n",
        "        make_pipeline(\n",
        "            SimpleImputer(strategy=\"most_frequent\"),\n",
        "            OrdinalEncoder(\n",
        "                categories=[[\"NA\", \"Unf\", \"RFn\", \"Fin\"]],\n",
        "                handle_unknown=\"use_encoded_value\",\n",
        "                unknown_value=-1,\n",
        "            ),\n",
        "        ),\n",
        "        [\"GarageFinish\"],\n",
        "    )\n",
        ")\n",
        "\n",
        "ordinal_transformers.append(\n",
        "    (\n",
        "        make_pipeline(\n",
        "            SimpleImputer(strategy=\"most_frequent\"),\n",
        "            OrdinalEncoder(\n",
        "                categories=[[\"NA\", \"Fa\", \"TA\", \"Gd\", \"Ex\"]],\n",
        "                handle_unknown=\"use_encoded_value\",\n",
        "                unknown_value=-1,\n",
        "            ),\n",
        "        ),\n",
        "        [\"PoolQC\"],\n",
        "    )\n",
        ")\n",
        "\n",
        "ordinal_transformers.append(\n",
        "    (\n",
        "        make_pipeline(\n",
        "            SimpleImputer(strategy=\"most_frequent\"),\n",
        "            OrdinalEncoder(\n",
        "                categories=[[\"Sev\", \"Mod\", \"Gtl\"]],\n",
        "                handle_unknown=\"use_encoded_value\",\n",
        "                unknown_value=-1,\n",
        "            ),\n",
        "        ),\n",
        "        [\"LandSlope\"],\n",
        "    )\n",
        ")\n",
        "\n",
        "ordinal_transformers.append(\n",
        "    (\n",
        "        make_pipeline(\n",
        "            SimpleImputer(strategy=\"most_frequent\"),\n",
        "            OrdinalEncoder(\n",
        "                categories=[[\"NA\", \"MnWw\", \"GdWo\", \"MnPrv\", \"GdPrv\"]],\n",
        "                handle_unknown=\"use_encoded_value\",\n",
        "                unknown_value=-1,\n",
        "            ),\n",
        "        ),\n",
        "        [\"Fence\"],\n",
        "    )\n",
        ")\n",
        "\n",
        "ordinal_transformers.append((\"passthrough\", [\"OverallQual\", \"OverallCond\"]))\n",
        "\n",
        "transformer = make_column_transformer(\n",
        "    *ordinal_transformers,\n",
        "    (categorical_pipeline, CATEGORICAL_COLUMNS),\n",
        "    # (numerical_pipeline, NUMERICAL_COLUMNS),\n",
        "    # remainder=\"passthrough\",\n",
        ")"
      ],
      "metadata": {
        "id": "XR_cLcWtiJbH"
      },
      "execution_count": 100,
      "outputs": []
    },
    {
      "cell_type": "code",
      "source": [
        "import itertools\n",
        "cols = list(itertools.chain.from_iterable([t[1] for t in ordinal_transformers]))\n",
        "unhandled_ordinal_columns = list(set(ORDINAL_COLUMNS).difference(set(cols)))\n",
        "print(f'Unhandled ordinal columns:\\n{unhandled_ordinal_columns}')"
      ],
      "metadata": {
        "colab": {
          "base_uri": "https://localhost:8080/",
          "height": 51
        },
        "id": "24GRkD7t4u3A",
        "outputId": "1308a39c-cc08-400f-9922-8f18f65edf7d"
      },
      "execution_count": 97,
      "outputs": [
        {
          "output_type": "display_data",
          "data": {
            "text/plain": [
              "Unhandled ordinal columns:\n",
              "\u001b[1m[\u001b[0m\u001b[1m]\u001b[0m\n"
            ],
            "text/html": [
              "<pre style=\"white-space:pre;overflow-x:auto;line-height:normal;font-family:Menlo,'DejaVu Sans Mono',consolas,'Courier New',monospace\">Unhandled ordinal columns:\n",
              "<span style=\"font-weight: bold\">[]</span>\n",
              "</pre>\n"
            ]
          },
          "metadata": {}
        }
      ]
    },
    {
      "cell_type": "code",
      "source": [
        "transformer.fit_transform(X=X_train, y=y_train)"
      ],
      "metadata": {
        "colab": {
          "base_uri": "https://localhost:8080/"
        },
        "id": "a2YY_bsK2SNP",
        "outputId": "f9f208db-9785-48e6-d711-fb1c91846d04"
      },
      "execution_count": 101,
      "outputs": [
        {
          "output_type": "execute_result",
          "data": {
            "text/plain": [
              "<978x204 sparse matrix of type '<class 'numpy.float64'>'\n",
              "\twith 44069 stored elements in Compressed Sparse Row format>"
            ]
          },
          "metadata": {},
          "execution_count": 101
        }
      ]
    },
    {
      "cell_type": "code",
      "source": [
        "pipeline = make_pipeline(transformer, LinearRegression())\n",
        "\n",
        "scores = cross_val_score(pipeline, X=X_train, y=y_train)\n",
        "\n",
        "print(scores)\n",
        "print(f\"{scores.mean():.2f} accuracy with a standard deviation of {scores.std():.2f}\")"
      ],
      "metadata": {
        "colab": {
          "base_uri": "https://localhost:8080/",
          "height": 51
        },
        "id": "MHFqwHl72E6d",
        "outputId": "d71b4692-5b1e-4d7b-de60-f048c297970b"
      },
      "execution_count": 102,
      "outputs": [
        {
          "output_type": "display_data",
          "data": {
            "text/plain": [
              "\u001b[1m[\u001b[0m\u001b[1;36m0.772307\u001b[0m   \u001b[1;36m0.67021717\u001b[0m \u001b[1;36m0.79580376\u001b[0m \u001b[1;36m0.6951868\u001b[0m  \u001b[1;36m0.5769355\u001b[0m \u001b[1m]\u001b[0m\n"
            ],
            "text/html": [
              "<pre style=\"white-space:pre;overflow-x:auto;line-height:normal;font-family:Menlo,'DejaVu Sans Mono',consolas,'Courier New',monospace\"><span style=\"font-weight: bold\">[</span><span style=\"color: #008080; text-decoration-color: #008080; font-weight: bold\">0.772307</span>   <span style=\"color: #008080; text-decoration-color: #008080; font-weight: bold\">0.67021717</span> <span style=\"color: #008080; text-decoration-color: #008080; font-weight: bold\">0.79580376</span> <span style=\"color: #008080; text-decoration-color: #008080; font-weight: bold\">0.6951868</span>  <span style=\"color: #008080; text-decoration-color: #008080; font-weight: bold\">0.5769355</span> <span style=\"font-weight: bold\">]</span>\n",
              "</pre>\n"
            ]
          },
          "metadata": {}
        },
        {
          "output_type": "display_data",
          "data": {
            "text/plain": [
              "\u001b[1;36m0.70\u001b[0m accuracy with a standard deviation of \u001b[1;36m0.08\u001b[0m\n"
            ],
            "text/html": [
              "<pre style=\"white-space:pre;overflow-x:auto;line-height:normal;font-family:Menlo,'DejaVu Sans Mono',consolas,'Courier New',monospace\"><span style=\"color: #008080; text-decoration-color: #008080; font-weight: bold\">0.70</span> accuracy with a standard deviation of <span style=\"color: #008080; text-decoration-color: #008080; font-weight: bold\">0.08</span>\n",
              "</pre>\n"
            ]
          },
          "metadata": {}
        }
      ]
    }
  ]
}